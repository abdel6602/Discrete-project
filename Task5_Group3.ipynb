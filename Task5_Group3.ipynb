{
 "cells": [
  {
   "cell_type": "code",
   "execution_count": 1,
   "id": "b3d2bd6b",
   "metadata": {},
   "outputs": [],
   "source": [
    "import collections"
   ]
  },
  {
   "cell_type": "code",
   "execution_count": 2,
   "id": "0863d983",
   "metadata": {},
   "outputs": [],
   "source": [
    "def Prime_Factorial(n):\n",
    "    if n < 4:\n",
    "        return n\n",
    "    arr = []\n",
    "    while n > 1:\n",
    "        for i in range(2, int(2+n//2)):\n",
    "            if i == (1 + n // 2):\n",
    "                arr.append(n)\n",
    "                n = n // n\n",
    "            if n % i == 0:\n",
    "                arr.append(i)\n",
    "                n = n // i\n",
    "                break\n",
    "    return arr"
   ]
  },
  {
   "cell_type": "code",
   "execution_count": 3,
   "id": "91407372",
   "metadata": {},
   "outputs": [],
   "source": [
    "k = 0\n",
    "i = 5"
   ]
  },
  {
   "cell_type": "code",
   "execution_count": 4,
   "id": "4262477e",
   "metadata": {},
   "outputs": [
    {
     "name": "stdout",
     "output_type": "stream",
     "text": [
      "the First triangle number that is divisible by 400 or more numbers is: 17907120\n"
     ]
    }
   ],
   "source": [
    "while True :\n",
    "    k  = (i * (i + 1)) / 2        #get the triangle number\n",
    "    i = i + 1\n",
    "    n = list(Prime_Factorial(int(k)) )    #get the prime factors\n",
    "    freq = collections.Counter(n)\n",
    "    l = 1\n",
    "    for m in freq.values() :           #get number of divisors\n",
    "        l *= (m+1)\n",
    "    #check if divisors are greater that or equal to 400\n",
    "    if l >= 400 :\n",
    "        print(\"the First triangle number that is divisible by 400 or more numbers is:\", int(k))\n",
    "        break"
   ]
  },
  {
   "cell_type": "code",
   "execution_count": null,
   "id": "0ca1d174",
   "metadata": {},
   "outputs": [],
   "source": []
  }
 ],
 "metadata": {
  "kernelspec": {
   "display_name": "Python 3 (ipykernel)",
   "language": "python",
   "name": "python3"
  },
  "language_info": {
   "codemirror_mode": {
    "name": "ipython",
    "version": 3
   },
   "file_extension": ".py",
   "mimetype": "text/x-python",
   "name": "python",
   "nbconvert_exporter": "python",
   "pygments_lexer": "ipython3",
   "version": "3.9.13"
  }
 },
 "nbformat": 4,
 "nbformat_minor": 5
}
